{
  "nbformat": 4,
  "nbformat_minor": 0,
  "metadata": {
    "colab": {
      "provenance": [],
      "include_colab_link": true
    },
    "kernelspec": {
      "name": "python3",
      "display_name": "Python 3"
    },
    "language_info": {
      "name": "python"
    }
  },
  "cells": [
    {
      "cell_type": "markdown",
      "metadata": {
        "id": "view-in-github",
        "colab_type": "text"
      },
      "source": [
        "<a href=\"https://colab.research.google.com/github/Satyamaadi/Algorithms/blob/main/Chromadb_example.ipynb\" target=\"_parent\"><img src=\"https://colab.research.google.com/assets/colab-badge.svg\" alt=\"Open In Colab\"/></a>"
      ]
    },
    {
      "cell_type": "markdown",
      "source": [
        "# Welcome to this very small demo of Chroma\n",
        "\n",
        "1. Install chroma\n",
        "2. Create the client\n",
        "3. Create the collection\n",
        "4. Load data\n",
        "5. Query data by nearest embedding"
      ],
      "metadata": {
        "id": "eLtiBx5FOWer"
      }
    },
    {
      "cell_type": "code",
      "execution_count": null,
      "metadata": {
        "id": "jbwLWGiDElhM"
      },
      "outputs": [],
      "source": [
        "pip install chromadb"
      ]
    },
    {
      "cell_type": "code",
      "source": [
        "!pip install collection"
      ],
      "metadata": {
        "id": "9N7S79Zf0oKJ"
      },
      "execution_count": null,
      "outputs": []
    },
    {
      "cell_type": "code",
      "source": [
        "import chromadb\n",
        "import collection\n",
        "client = chromadb.Client()\n",
        "\n",
        "collection = client.get_or_create_collection(\"test\")"
      ],
      "metadata": {
        "id": "ciUVixVxwiws"
      },
      "execution_count": 5,
      "outputs": []
    },
    {
      "cell_type": "code",
      "source": [
        "collection.add(\n",
        "    embeddings=[\n",
        "        [1.1, 2.3, 3.2],\n",
        "        [4.5, 6.9, 4.4],\n",
        "        [1.1, 2.3, 3.2],\n",
        "        [4.5, 6.9, 4.4],\n",
        "        [1.1, 2.3, 3.2],\n",
        "        [4.5, 6.9, 4.4],\n",
        "        [1.1, 2.3, 3.2],\n",
        "        [4.5, 6.9, 4.4],\n",
        "    ],\n",
        "    metadatas=[\n",
        "        {\"uri\": \"img1.png\", \"style\": \"style1\"},\n",
        "        {\"uri\": \"img2.png\", \"style\": \"style2\"},\n",
        "        {\"uri\": \"img3.png\", \"style\": \"style1\"},\n",
        "        {\"uri\": \"img4.png\", \"style\": \"style1\"},\n",
        "        {\"uri\": \"img5.png\", \"style\": \"style1\"},\n",
        "        {\"uri\": \"img6.png\", \"style\": \"style1\"},\n",
        "        {\"uri\": \"img7.png\", \"style\": \"style1\"},\n",
        "        {\"uri\": \"img8.png\", \"style\": \"style1\"},\n",
        "    ],\n",
        "    documents=[\"doc1\", \"doc2\", \"doc3\", \"doc4\", \"doc5\", \"doc6\", \"doc7\", \"doc8\"],\n",
        "    ids=[\"id1\", \"id2\", \"id3\", \"id4\", \"id5\", \"id6\", \"id7\", \"id8\"],\n",
        ")\n",
        "\n",
        "query_result = collection.query(\n",
        "        query_embeddings=[[1.1, 2.3, 3.2], [5.1, 4.3, 2.2]],\n",
        "        n_results=2,\n",
        "    )\n",
        "\n",
        "print(query_result)\n"
      ],
      "metadata": {
        "id": "64dWyeEdKAX9",
        "colab": {
          "base_uri": "https://localhost:8080/"
        },
        "outputId": "5aa1dbb1-d1e4-444c-edd3-b4edda631f68"
      },
      "execution_count": 6,
      "outputs": [
        {
          "output_type": "stream",
          "name": "stdout",
          "text": [
            "{'ids': [['id5', 'id7'], ['id2', 'id8']], 'distances': [[0.0, 0.0], [11.959999084472656, 11.959999084472656]], 'metadatas': [[{'style': 'style1', 'uri': 'img5.png'}, {'style': 'style1', 'uri': 'img7.png'}], [{'style': 'style2', 'uri': 'img2.png'}, {'style': 'style1', 'uri': 'img8.png'}]], 'embeddings': None, 'documents': [['doc5', 'doc7'], ['doc2', 'doc8']], 'uris': None, 'data': None}\n"
          ]
        }
      ]
    },
    {
      "cell_type": "code",
      "source": [
        "# Create collection. get_collection, get_or_create_collection, delete_collection also available!\n",
        "collection = client.create_collection(\"all-my-documents\")\n",
        "\n",
        "# Add docs to the collection. Can also update and delete. Row-based API coming soon!\n",
        "collection.add(\n",
        "    documents=[\"This is document1\", \"This is document2\"], # we handle tokenization, embedding, and indexing automatically. You can skip that and add your own embeddings as well\n",
        "    metadatas=[{\"source\": \"notion\"}, {\"source\": \"google-docs\"}], # filter on these!\n",
        "    ids=[\"doc1\", \"doc2\"], # unique for each doc\n",
        ")\n",
        "\n",
        "# Query/search 2 most similar results. You can also .get by id\n",
        "results = collection.query(\n",
        "    query_texts=[\"This is a query document\"],\n",
        "    n_results=2,\n",
        "    # where={\"metadata_field\": \"is_equal_to_this\"}, # optional filter\n",
        "    # where_document={\"$contains\":\"search_string\"}  # optional filter\n",
        ")"
      ],
      "metadata": {
        "id": "tCyOFJ511a6r",
        "outputId": "3d514ad2-67bc-4b24-a91c-70bbdb6ca26e",
        "colab": {
          "base_uri": "https://localhost:8080/"
        }
      },
      "execution_count": 7,
      "outputs": [
        {
          "output_type": "stream",
          "name": "stderr",
          "text": [
            "/root/.cache/chroma/onnx_models/all-MiniLM-L6-v2/onnx.tar.gz: 100%|██████████| 79.3M/79.3M [00:01<00:00, 43.7MiB/s]\n"
          ]
        }
      ]
    },
    {
      "cell_type": "code",
      "source": [
        "results"
      ],
      "metadata": {
        "id": "U1tHY9UM1emQ",
        "outputId": "c03835d8-ce0a-44b1-ff48-f33e0ab3f6fb",
        "colab": {
          "base_uri": "https://localhost:8080/"
        }
      },
      "execution_count": 8,
      "outputs": [
        {
          "output_type": "execute_result",
          "data": {
            "text/plain": [
              "{'ids': [['doc1', 'doc2']],\n",
              " 'distances': [[0.9026353359222412, 1.035815954208374]],\n",
              " 'metadatas': [[{'source': 'notion'}, {'source': 'google-docs'}]],\n",
              " 'embeddings': None,\n",
              " 'documents': [['This is document1', 'This is document2']],\n",
              " 'uris': None,\n",
              " 'data': None}"
            ]
          },
          "metadata": {},
          "execution_count": 8
        }
      ]
    },
    {
      "cell_type": "markdown",
      "source": [
        "What's next?\n",
        "- [Read the docs](https://docs.trychroma.com/)\n",
        "- [Join the Discord](https://discord.gg/MMeYNTmh3x)\n",
        "- [View project on Github](https://github.com/chroma-core/chroma)"
      ],
      "metadata": {
        "id": "3o94AN6aOlgd"
      }
    }
  ]
}